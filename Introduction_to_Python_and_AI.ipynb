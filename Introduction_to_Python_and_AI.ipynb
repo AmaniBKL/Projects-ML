{
  "nbformat": 4,
  "nbformat_minor": 0,
  "metadata": {
    "colab": {
      "name": "Introduction to Python and  AI.ipynb",
      "provenance": [],
      "collapsed_sections": [],
      "authorship_tag": "ABX9TyPo3jA7ul/XX/Q1wF9mWLAS",
      "include_colab_link": true
    },
    "kernelspec": {
      "name": "python3",
      "display_name": "Python 3"
    },
    "language_info": {
      "name": "python"
    }
  },
  "cells": [
    {
      "cell_type": "markdown",
      "metadata": {
        "id": "view-in-github",
        "colab_type": "text"
      },
      "source": [
        "<a href=\"https://colab.research.google.com/github/AmaniBKL/Projects-ML/blob/main/Introduction_to_Python_and_AI.ipynb\" target=\"_parent\"><img src=\"https://colab.research.google.com/assets/colab-badge.svg\" alt=\"Open In Colab\"/></a>"
      ]
    },
    {
      "cell_type": "code",
      "metadata": {
        "colab": {
          "base_uri": "https://localhost:8080/"
        },
        "id": "ey_e_RbrTDPB",
        "outputId": "a22026ae-5b23-43a2-bc62-0d4b2b2de97a"
      },
      "source": [
        "# Question 1\n",
        "\n",
        "l=[]\n",
        "for i in range (2000,3201):\n",
        "  if i%7 == 0 and i%5 != 0 :\n",
        "    l.append(i)\n",
        "print(\"l=\",l)\n"
      ],
      "execution_count": null,
      "outputs": [
        {
          "output_type": "stream",
          "name": "stdout",
          "text": [
            "l= [2002, 2009, 2016, 2023, 2037, 2044, 2051, 2058, 2072, 2079, 2086, 2093, 2107, 2114, 2121, 2128, 2142, 2149, 2156, 2163, 2177, 2184, 2191, 2198, 2212, 2219, 2226, 2233, 2247, 2254, 2261, 2268, 2282, 2289, 2296, 2303, 2317, 2324, 2331, 2338, 2352, 2359, 2366, 2373, 2387, 2394, 2401, 2408, 2422, 2429, 2436, 2443, 2457, 2464, 2471, 2478, 2492, 2499, 2506, 2513, 2527, 2534, 2541, 2548, 2562, 2569, 2576, 2583, 2597, 2604, 2611, 2618, 2632, 2639, 2646, 2653, 2667, 2674, 2681, 2688, 2702, 2709, 2716, 2723, 2737, 2744, 2751, 2758, 2772, 2779, 2786, 2793, 2807, 2814, 2821, 2828, 2842, 2849, 2856, 2863, 2877, 2884, 2891, 2898, 2912, 2919, 2926, 2933, 2947, 2954, 2961, 2968, 2982, 2989, 2996, 3003, 3017, 3024, 3031, 3038, 3052, 3059, 3066, 3073, 3087, 3094, 3101, 3108, 3122, 3129, 3136, 3143, 3157, 3164, 3171, 3178, 3192, 3199]\n"
          ]
        }
      ]
    },
    {
      "cell_type": "code",
      "metadata": {
        "colab": {
          "base_uri": "https://localhost:8080/"
        },
        "id": "1l2j5HdaWkfk",
        "outputId": "27ed3efb-7f23-4e02-e52c-6de08d4a1c6f"
      },
      "source": [
        "# Question 2\n",
        " \n",
        "n=int(input(\"donner un entier : \"))\n",
        "f=1\n",
        "if n!=0 :\n",
        "  for i in range (1,n+1):\n",
        "    f=f*i\n",
        "else:\n",
        "  f=1\n",
        "print(\"the factorial of\"+\" \"+str(n)+\" is : \"+str(f))\n"
      ],
      "execution_count": null,
      "outputs": [
        {
          "output_type": "stream",
          "name": "stdout",
          "text": [
            "donner un entier : 5\n",
            "the factorial of 5 is : 120\n"
          ]
        }
      ]
    },
    {
      "cell_type": "code",
      "metadata": {
        "colab": {
          "base_uri": "https://localhost:8080/"
        },
        "id": "0mDNhApPYTki",
        "outputId": "55419e35-c6fe-4310-948f-dd8d75146476"
      },
      "source": [
        "# Question 3\n",
        "\n",
        "n=int(input(\"donner un entier : \"))\n",
        "dict={}\n",
        "for i in range(1,n+1):\n",
        "  dict[i]=i*i\n",
        "print(\"dict =\",dict)\n"
      ],
      "execution_count": null,
      "outputs": [
        {
          "output_type": "stream",
          "name": "stdout",
          "text": [
            "donner un entier : 8\n",
            "dict = {1: 1, 2: 4, 3: 9, 4: 16, 5: 25, 6: 36, 7: 49, 8: 64}\n"
          ]
        }
      ]
    },
    {
      "cell_type": "code",
      "metadata": {
        "colab": {
          "base_uri": "https://localhost:8080/",
          "height": 69
        },
        "id": "WFAcg_Bee_Th",
        "outputId": "becbed63-2d31-478b-a0b1-a719b386cb6a"
      },
      "source": [
        "# Question 4\n",
        "\n",
        "def missing_char(ch,ind):\n",
        "  l=list(ch)\n",
        "  del l[ind]\n",
        "  newch=\"\".join(l)\n",
        "  return newch\n",
        "\n",
        "ch=input(\"donner une chaine : \")\n",
        "n=len(ch)\n",
        "ind=int(input(\"donner l'index : \"))\n",
        "while ind<0 and ind>=n:\n",
        "  ind=int(input(\"donner l'index : \"))\n",
        "missing_char(ch,ind)\n"
      ],
      "execution_count": null,
      "outputs": [
        {
          "name": "stdout",
          "output_type": "stream",
          "text": [
            "donner une chaine : kitten\n",
            "donner l'index : 4\n"
          ]
        },
        {
          "output_type": "execute_result",
          "data": {
            "application/vnd.google.colaboratory.intrinsic+json": {
              "type": "string"
            },
            "text/plain": [
              "'kittn'"
            ]
          },
          "metadata": {},
          "execution_count": 9
        }
      ]
    },
    {
      "cell_type": "code",
      "metadata": {
        "colab": {
          "base_uri": "https://localhost:8080/"
        },
        "id": "Lm0xrbMwhHrt",
        "outputId": "f48806de-3792-451d-faa0-eb9655b6950d"
      },
      "source": [
        "# Question 5\n",
        "\n",
        "import numpy as np\n",
        "nbl=int(input(\"donner le nombre de lignes : \"))\n",
        "nbc=int(input(\"donner le nombre de colonnes : \"))\n",
        "a=np.zeros((nbl,nbc))\n",
        "for i in range(nbl):\n",
        "  for j in range(nbc):\n",
        "    a[i,j]=int(input(\"a[\"+str(i)+\",\"+str(j)+\"]=\"))\n",
        "l=a.tolist()\n",
        "print(\"array =\",a)\n",
        "print(\"liste =\",l)\n"
      ],
      "execution_count": null,
      "outputs": [
        {
          "output_type": "stream",
          "name": "stdout",
          "text": [
            "donner le nombre de lignes : 3\n",
            "donner le nombre de colonnes : 2\n",
            "a[0,0]=1\n",
            "a[0,1]=5\n",
            "a[1,0]=9\n",
            "a[1,1]=20\n",
            "a[2,0]=69\n",
            "a[2,1]=24\n",
            "array = [[ 1.  5.]\n",
            " [ 9. 20.]\n",
            " [69. 24.]]\n",
            "liste = [[1.0, 5.0], [9.0, 20.0], [69.0, 24.0]]\n"
          ]
        }
      ]
    },
    {
      "cell_type": "code",
      "metadata": {
        "colab": {
          "base_uri": "https://localhost:8080/"
        },
        "id": "IQIAq0Yqj4Ef",
        "outputId": "f5219a65-2d38-4039-8be6-461f22319e92"
      },
      "source": [
        "# Question 6\n",
        "\n",
        "import numpy as np\n",
        "nbl=int(input(\"donner le nombre de lignes : \"))\n",
        "nbc=int(input(\"donner le nombre de colonnes : \"))\n",
        "a=np.zeros((nbl,nbc))\n",
        "b=np.zeros((nbl,nbc))\n",
        "for i in range(nbl):\n",
        "  for j in range(nbc):\n",
        "    a[i,j]=int(input(\"a[\"+str(i)+\",\"+str(j)+\"]=\"))\n",
        "for i in range(nbl):\n",
        "  for j in range(nbc):\n",
        "    b[i,j]=int(input(\"b[\"+str(i)+\",\"+str(j)+\"]=\"))\n",
        "print(np.cov(a,b))\n"
      ],
      "execution_count": null,
      "outputs": [
        {
          "output_type": "stream",
          "name": "stdout",
          "text": [
            "donner le nombre de lignes : 1\n",
            "donner le nombre de colonnes : 3\n",
            "a[0,0]=0\n",
            "a[0,1]=1\n",
            "a[0,2]=2\n",
            "b[0,0]=2\n",
            "b[0,1]=1\n",
            "b[0,2]=0\n",
            "[[ 1. -1.]\n",
            " [-1.  1.]]\n"
          ]
        }
      ]
    },
    {
      "cell_type": "code",
      "metadata": {
        "colab": {
          "base_uri": "https://localhost:8080/"
        },
        "id": "Eo8z8P_wq0tX",
        "outputId": "d62474c4-60f5-4e0f-e86d-a5001d2d3363"
      },
      "source": [
        "# Question 7\n",
        "\n",
        "from math import sqrt\n",
        "import numpy as np\n",
        "c=50\n",
        "h=30\n",
        "n=int(input(\"donner la longueur de la liste de valeurs de d : \" ))\n",
        "d=[]\n",
        "for i in range (n):\n",
        "  v=int(input(\"d[\"+str(i)+\"]=\"))\n",
        "  d.append(v)\n",
        "q=0\n",
        "for i in range (n):\n",
        "  q=sqrt((2*c*d[i])/h)\n",
        "  print(\"q[{}]=\".format(i),round(q))\n"
      ],
      "execution_count": null,
      "outputs": [
        {
          "output_type": "stream",
          "name": "stdout",
          "text": [
            "donner la longueur de la liste de valeurs de d : 3\n",
            "d[0]=100\n",
            "d[1]=150\n",
            "d[2]=180\n",
            "q[0]= 18\n",
            "q[1]= 22\n",
            "q[2]= 24\n"
          ]
        }
      ]
    },
    {
      "cell_type": "code",
      "metadata": {
        "id": "YCzvHB1usFp1"
      },
      "source": [
        ""
      ],
      "execution_count": null,
      "outputs": []
    }
  ]
}