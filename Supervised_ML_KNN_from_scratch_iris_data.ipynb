{
  "nbformat": 4,
  "nbformat_minor": 0,
  "metadata": {
    "colab": {
      "name": "Supervised ML : KNN from scratch - iris.data.ipynb",
      "provenance": [],
      "collapsed_sections": [],
      "authorship_tag": "ABX9TyMNOlZ8k6O2HiyJiM4BeRpE",
      "include_colab_link": true
    },
    "kernelspec": {
      "name": "python3",
      "display_name": "Python 3"
    },
    "language_info": {
      "name": "python"
    }
  },
  "cells": [
    {
      "cell_type": "markdown",
      "metadata": {
        "id": "view-in-github",
        "colab_type": "text"
      },
      "source": [
        "<a href=\"https://colab.research.google.com/github/AmaniBKL/Projects-ML/blob/main/Supervised_ML_KNN_from_scratch_iris_data.ipynb\" target=\"_parent\"><img src=\"https://colab.research.google.com/assets/colab-badge.svg\" alt=\"Open In Colab\"/></a>"
      ]
    },
    {
      "cell_type": "markdown",
      "source": [
        "# **1. Handle Data**"
      ],
      "metadata": {
        "id": "_G_PNipWNoGr"
      }
    },
    {
      "cell_type": "code",
      "source": [
        "# load our data file.\n",
        "import csv\n",
        "data='/content/iris.data.txt' # path of our data file.\n",
        "with open(data, 'r') as csvfile: # open a file using the open method with read parameter under the name of csvfile.\n",
        "  lines = csv.reader(csvfile) # using csv module to read our data.\n",
        "  for row in lines :\n",
        "    print (', '.join(row)) # separator.join(iterable) : takes all items in an iterable and joins them into one string."
      ],
      "metadata": {
        "id": "zEDf2mjR6caE",
        "colab": {
          "base_uri": "https://localhost:8080/"
        },
        "outputId": "e2b1872f-8a88-4f45-830d-3c25c26c6542"
      },
      "execution_count": null,
      "outputs": [
        {
          "output_type": "stream",
          "name": "stdout",
          "text": [
            "5.1, 3.5, 1.4, 0.2, Iris-setosa\n",
            "4.9, 3.0, 1.4, 0.2, Iris-setosa\n",
            "4.7, 3.2, 1.3, 0.2, Iris-setosa\n",
            "4.6, 3.1, 1.5, 0.2, Iris-setosa\n",
            "5.0, 3.6, 1.4, 0.2, Iris-setosa\n",
            "5.4, 3.9, 1.7, 0.4, Iris-setosa\n",
            "4.6, 3.4, 1.4, 0.3, Iris-setosa\n",
            "5.0, 3.4, 1.5, 0.2, Iris-setosa\n",
            "4.4, 2.9, 1.4, 0.2, Iris-setosa\n",
            "4.9, 3.1, 1.5, 0.1, Iris-setosa\n",
            "5.4, 3.7, 1.5, 0.2, Iris-setosa\n",
            "4.8, 3.4, 1.6, 0.2, Iris-setosa\n",
            "4.8, 3.0, 1.4, 0.1, Iris-setosa\n",
            "4.3, 3.0, 1.1, 0.1, Iris-setosa\n",
            "5.8, 4.0, 1.2, 0.2, Iris-setosa\n",
            "5.7, 4.4, 1.5, 0.4, Iris-setosa\n",
            "5.4, 3.9, 1.3, 0.4, Iris-setosa\n",
            "5.1, 3.5, 1.4, 0.3, Iris-setosa\n",
            "5.7, 3.8, 1.7, 0.3, Iris-setosa\n",
            "5.1, 3.8, 1.5, 0.3, Iris-setosa\n",
            "5.4, 3.4, 1.7, 0.2, Iris-setosa\n",
            "5.1, 3.7, 1.5, 0.4, Iris-setosa\n",
            "4.6, 3.6, 1.0, 0.2, Iris-setosa\n",
            "5.1, 3.3, 1.7, 0.5, Iris-setosa\n",
            "4.8, 3.4, 1.9, 0.2, Iris-setosa\n",
            "5.0, 3.0, 1.6, 0.2, Iris-setosa\n",
            "5.0, 3.4, 1.6, 0.4, Iris-setosa\n",
            "5.2, 3.5, 1.5, 0.2, Iris-setosa\n",
            "5.2, 3.4, 1.4, 0.2, Iris-setosa\n",
            "4.7, 3.2, 1.6, 0.2, Iris-setosa\n",
            "4.8, 3.1, 1.6, 0.2, Iris-setosa\n",
            "5.4, 3.4, 1.5, 0.4, Iris-setosa\n",
            "5.2, 4.1, 1.5, 0.1, Iris-setosa\n",
            "5.5, 4.2, 1.4, 0.2, Iris-setosa\n",
            "4.9, 3.1, 1.5, 0.1, Iris-setosa\n",
            "5.0, 3.2, 1.2, 0.2, Iris-setosa\n",
            "5.5, 3.5, 1.3, 0.2, Iris-setosa\n",
            "4.9, 3.1, 1.5, 0.1, Iris-setosa\n",
            "4.4, 3.0, 1.3, 0.2, Iris-setosa\n",
            "5.1, 3.4, 1.5, 0.2, Iris-setosa\n",
            "5.0, 3.5, 1.3, 0.3, Iris-setosa\n",
            "4.5, 2.3, 1.3, 0.3, Iris-setosa\n",
            "4.4, 3.2, 1.3, 0.2, Iris-setosa\n",
            "5.0, 3.5, 1.6, 0.6, Iris-setosa\n",
            "5.1, 3.8, 1.9, 0.4, Iris-setosa\n",
            "4.8, 3.0, 1.4, 0.3, Iris-setosa\n",
            "5.1, 3.8, 1.6, 0.2, Iris-setosa\n",
            "4.6, 3.2, 1.4, 0.2, Iris-setosa\n",
            "5.3, 3.7, 1.5, 0.2, Iris-setosa\n",
            "5.0, 3.3, 1.4, 0.2, Iris-setosa\n",
            "7.0, 3.2, 4.7, 1.4, Iris-versicolor\n",
            "6.4, 3.2, 4.5, 1.5, Iris-versicolor\n",
            "6.9, 3.1, 4.9, 1.5, Iris-versicolor\n",
            "5.5, 2.3, 4.0, 1.3, Iris-versicolor\n",
            "6.5, 2.8, 4.6, 1.5, Iris-versicolor\n",
            "5.7, 2.8, 4.5, 1.3, Iris-versicolor\n",
            "6.3, 3.3, 4.7, 1.6, Iris-versicolor\n",
            "4.9, 2.4, 3.3, 1.0, Iris-versicolor\n",
            "6.6, 2.9, 4.6, 1.3, Iris-versicolor\n",
            "5.2, 2.7, 3.9, 1.4, Iris-versicolor\n",
            "5.0, 2.0, 3.5, 1.0, Iris-versicolor\n",
            "5.9, 3.0, 4.2, 1.5, Iris-versicolor\n",
            "6.0, 2.2, 4.0, 1.0, Iris-versicolor\n",
            "6.1, 2.9, 4.7, 1.4, Iris-versicolor\n",
            "5.6, 2.9, 3.6, 1.3, Iris-versicolor\n",
            "6.7, 3.1, 4.4, 1.4, Iris-versicolor\n",
            "5.6, 3.0, 4.5, 1.5, Iris-versicolor\n",
            "5.8, 2.7, 4.1, 1.0, Iris-versicolor\n",
            "6.2, 2.2, 4.5, 1.5, Iris-versicolor\n",
            "5.6, 2.5, 3.9, 1.1, Iris-versicolor\n",
            "5.9, 3.2, 4.8, 1.8, Iris-versicolor\n",
            "6.1, 2.8, 4.0, 1.3, Iris-versicolor\n",
            "6.3, 2.5, 4.9, 1.5, Iris-versicolor\n",
            "6.1, 2.8, 4.7, 1.2, Iris-versicolor\n",
            "6.4, 2.9, 4.3, 1.3, Iris-versicolor\n",
            "6.6, 3.0, 4.4, 1.4, Iris-versicolor\n",
            "6.8, 2.8, 4.8, 1.4, Iris-versicolor\n",
            "6.7, 3.0, 5.0, 1.7, Iris-versicolor\n",
            "6.0, 2.9, 4.5, 1.5, Iris-versicolor\n",
            "5.7, 2.6, 3.5, 1.0, Iris-versicolor\n",
            "5.5, 2.4, 3.8, 1.1, Iris-versicolor\n",
            "5.5, 2.4, 3.7, 1.0, Iris-versicolor\n",
            "5.8, 2.7, 3.9, 1.2, Iris-versicolor\n",
            "6.0, 2.7, 5.1, 1.6, Iris-versicolor\n",
            "5.4, 3.0, 4.5, 1.5, Iris-versicolor\n",
            "6.0, 3.4, 4.5, 1.6, Iris-versicolor\n",
            "6.7, 3.1, 4.7, 1.5, Iris-versicolor\n",
            "6.3, 2.3, 4.4, 1.3, Iris-versicolor\n",
            "5.6, 3.0, 4.1, 1.3, Iris-versicolor\n",
            "5.5, 2.5, 4.0, 1.3, Iris-versicolor\n",
            "5.5, 2.6, 4.4, 1.2, Iris-versicolor\n",
            "6.1, 3.0, 4.6, 1.4, Iris-versicolor\n",
            "5.8, 2.6, 4.0, 1.2, Iris-versicolor\n",
            "5.0, 2.3, 3.3, 1.0, Iris-versicolor\n",
            "5.6, 2.7, 4.2, 1.3, Iris-versicolor\n",
            "5.7, 3.0, 4.2, 1.2, Iris-versicolor\n",
            "5.7, 2.9, 4.2, 1.3, Iris-versicolor\n",
            "6.2, 2.9, 4.3, 1.3, Iris-versicolor\n",
            "5.1, 2.5, 3.0, 1.1, Iris-versicolor\n",
            "5.7, 2.8, 4.1, 1.3, Iris-versicolor\n",
            "6.3, 3.3, 6.0, 2.5, Iris-virginica\n",
            "5.8, 2.7, 5.1, 1.9, Iris-virginica\n",
            "7.1, 3.0, 5.9, 2.1, Iris-virginica\n",
            "6.3, 2.9, 5.6, 1.8, Iris-virginica\n",
            "6.5, 3.0, 5.8, 2.2, Iris-virginica\n",
            "7.6, 3.0, 6.6, 2.1, Iris-virginica\n",
            "4.9, 2.5, 4.5, 1.7, Iris-virginica\n",
            "7.3, 2.9, 6.3, 1.8, Iris-virginica\n",
            "6.7, 2.5, 5.8, 1.8, Iris-virginica\n",
            "7.2, 3.6, 6.1, 2.5, Iris-virginica\n",
            "6.5, 3.2, 5.1, 2.0, Iris-virginica\n",
            "6.4, 2.7, 5.3, 1.9, Iris-virginica\n",
            "6.8, 3.0, 5.5, 2.1, Iris-virginica\n",
            "5.7, 2.5, 5.0, 2.0, Iris-virginica\n",
            "5.8, 2.8, 5.1, 2.4, Iris-virginica\n",
            "6.4, 3.2, 5.3, 2.3, Iris-virginica\n",
            "6.5, 3.0, 5.5, 1.8, Iris-virginica\n",
            "7.7, 3.8, 6.7, 2.2, Iris-virginica\n",
            "7.7, 2.6, 6.9, 2.3, Iris-virginica\n",
            "6.0, 2.2, 5.0, 1.5, Iris-virginica\n",
            "6.9, 3.2, 5.7, 2.3, Iris-virginica\n",
            "5.6, 2.8, 4.9, 2.0, Iris-virginica\n",
            "7.7, 2.8, 6.7, 2.0, Iris-virginica\n",
            "6.3, 2.7, 4.9, 1.8, Iris-virginica\n",
            "6.7, 3.3, 5.7, 2.1, Iris-virginica\n",
            "7.2, 3.2, 6.0, 1.8, Iris-virginica\n",
            "6.2, 2.8, 4.8, 1.8, Iris-virginica\n",
            "6.1, 3.0, 4.9, 1.8, Iris-virginica\n",
            "6.4, 2.8, 5.6, 2.1, Iris-virginica\n",
            "7.2, 3.0, 5.8, 1.6, Iris-virginica\n",
            "7.4, 2.8, 6.1, 1.9, Iris-virginica\n",
            "7.9, 3.8, 6.4, 2.0, Iris-virginica\n",
            "6.4, 2.8, 5.6, 2.2, Iris-virginica\n",
            "6.3, 2.8, 5.1, 1.5, Iris-virginica\n",
            "6.1, 2.6, 5.6, 1.4, Iris-virginica\n",
            "7.7, 3.0, 6.1, 2.3, Iris-virginica\n",
            "6.3, 3.4, 5.6, 2.4, Iris-virginica\n",
            "6.4, 3.1, 5.5, 1.8, Iris-virginica\n",
            "6.0, 3.0, 4.8, 1.8, Iris-virginica\n",
            "6.9, 3.1, 5.4, 2.1, Iris-virginica\n",
            "6.7, 3.1, 5.6, 2.4, Iris-virginica\n",
            "6.9, 3.1, 5.1, 2.3, Iris-virginica\n",
            "5.8, 2.7, 5.1, 1.9, Iris-virginica\n",
            "6.8, 3.2, 5.9, 2.3, Iris-virginica\n",
            "6.7, 3.3, 5.7, 2.5, Iris-virginica\n",
            "6.7, 3.0, 5.2, 2.3, Iris-virginica\n",
            "6.3, 2.5, 5.0, 1.9, Iris-virginica\n",
            "6.5, 3.0, 5.2, 2.0, Iris-virginica\n",
            "6.2, 3.4, 5.4, 2.3, Iris-virginica\n",
            "5.9, 3.0, 5.1, 1.8, Iris-virginica\n"
          ]
        }
      ]
    },
    {
      "cell_type": "code",
      "source": [
        "# split the data into a training and test dataset.\n",
        "# this is a random segmentation of training data sets and test data sets. \n",
        "import csv\n",
        "import random\n",
        "def loadDataset(filename, split, trainingSet=[] , testSet=[]): # filename: file path and split : ratio of training data set to test data set.\n",
        "  with open(filename, 'r') as csvfile:\n",
        "    lines = csv.reader(csvfile)\n",
        "    dataset = list(lines) # put list of lines in one list.\n",
        "    for x in range(len(dataset)-1):\n",
        "      for y in range(4):\n",
        "        dataset[x][y] = float(dataset[x][y])\n",
        "      if random.random() < split: # random.random() is used to generate a random number of 0 to 1: 0 <= n < 1.0.\n",
        "        trainingSet.append(dataset[x])\n",
        "      else:\n",
        "        testSet.append(dataset[x])"
      ],
      "metadata": {
        "id": "hh_dg_VT__UB"
      },
      "execution_count": null,
      "outputs": []
    },
    {
      "cell_type": "code",
      "source": [
        "# test this function out with our iris dataset.\n",
        "trainingSet=[]\n",
        "testSet=[]\n",
        "# it is a common practice that the ratio of training data set to test data set is 67/33, so split is usually 0.66.\n",
        "loadDataset(data, 0.66, trainingSet, testSet) \n",
        "print ('Train: ' + repr(len(trainingSet)))\n",
        "print ('Test: ' + repr(len(testSet)) )"
      ],
      "metadata": {
        "colab": {
          "base_uri": "https://localhost:8080/"
        },
        "id": "fln3RHjoBD8y",
        "outputId": "ddd8dc6e-0bc8-42c8-b461-9532fd7e0901"
      },
      "execution_count": null,
      "outputs": [
        {
          "output_type": "stream",
          "name": "stdout",
          "text": [
            "Train: 99\n",
            "Test: 50\n"
          ]
        }
      ]
    },
    {
      "cell_type": "markdown",
      "source": [
        "# **2. Similarity**"
      ],
      "metadata": {
        "id": "BfSRVC0ib74U"
      }
    },
    {
      "cell_type": "code",
      "source": [
        "# calculate the similarity between any two given data instances.\n",
        "# number of elements in the instance1 =number of elements in the instance2.\n",
        "# the length refers to the number of elements in the instance1.\n",
        "import math\n",
        "def euclideanDistance(instance1, instance2, length): # fixing length and ignoring the final dimension of the species.\n",
        "  d = 0\n",
        "  for x in range(length):\n",
        "    d += pow((instance1[x]-instance2[x]),2) # using the euclidean distance measure. \n",
        "  return math.sqrt(d)"
      ],
      "metadata": {
        "id": "jXltDzVkXrbK"
      },
      "execution_count": null,
      "outputs": []
    },
    {
      "cell_type": "code",
      "source": [
        "# testing our function with some sample data.\n",
        "data1 = [2, 2, 2, 'a']\n",
        "data2 = [4, 4, 4, 'b']\n",
        "d = 0\n",
        "d = euclideanDistance(data1, data2, 3)\n",
        "print ('Distance: ' + repr(d))"
      ],
      "metadata": {
        "colab": {
          "base_uri": "https://localhost:8080/"
        },
        "id": "07HizYKN7V1-",
        "outputId": "4b09fa56-0df5-4747-abea-1669e8cb5743"
      },
      "execution_count": null,
      "outputs": [
        {
          "output_type": "stream",
          "name": "stdout",
          "text": [
            "Distance: 3.4641016151377544\n"
          ]
        }
      ]
    },
    {
      "cell_type": "markdown",
      "source": [
        "# **3. Neighbors**"
      ],
      "metadata": {
        "id": "dI1qMWIT9XzB"
      }
    },
    {
      "cell_type": "code",
      "source": [
        "# collect the k most similar instances (neighbors) from the training set for a given unseen test instance.\n",
        "import operator\n",
        "def getNeighbors(trainingSet, testInstance, k): # tesInstance: data to be predicted.\n",
        "  distances = []\n",
        "  length = len(testInstance)-1\n",
        "  for x in range(len(trainingSet)):\n",
        "    dist = euclideanDistance(testInstance, trainingSet[x], length) # calculating all the distance between testInstance and elements of trainingSet.\n",
        "    distances.append((trainingSet[x], dist)) # list contening instance and distance.\n",
        "  distances.sort(key=operator.itemgetter(1)) # ordored list from the small distance to the largest one.\n",
        "  neighbors = []\n",
        "  for x in range(k):\n",
        "    neighbors.append(distances[x][0]) # selecting the subset with the smallest distance value.\n",
        "    return neighbors"
      ],
      "metadata": {
        "id": "0VjD7U7l7a8p"
      },
      "execution_count": null,
      "outputs": []
    },
    {
      "cell_type": "code",
      "source": [
        "# test out the function.\n",
        "trainSet = [[2, 2, 2, 'a'], [4, 4, 4, 'b']]\n",
        "testInst = [5, 5, 5]\n",
        "k = 1\n",
        "voisins = getNeighbors(trainSet, testInst, 1)\n",
        "print(voisins)"
      ],
      "metadata": {
        "colab": {
          "base_uri": "https://localhost:8080/"
        },
        "id": "_3e1uqB5Be-V",
        "outputId": "f1954fd6-e364-4444-d26b-3dc08967cea4"
      },
      "execution_count": null,
      "outputs": [
        {
          "output_type": "stream",
          "name": "stdout",
          "text": [
            "[[4, 4, 4, 'b']]\n"
          ]
        }
      ]
    },
    {
      "cell_type": "markdown",
      "source": [
        "# **4. Response**"
      ],
      "metadata": {
        "id": "MYwj-slIQZL2"
      }
    },
    {
      "cell_type": "code",
      "source": [
        "# devise a predicted response based on those neighbors.\n",
        "import operator\n",
        "def getResponse(neighbors):\n",
        "  classVotes = {} # a dictionary contening the class and the vote.\n",
        "  for x in range(len(neighbors)): # traversing the nearest element.\n",
        "    response = neighbors[x][-1] # the class is the last attribute for each neighbor.\n",
        "    if response in classVotes:\n",
        "      classVotes[response] += 1 # allowing each neighbor to vote for their class attribute.\n",
        "    else:\n",
        "      classVotes[response] = 1\n",
        "  sortedVotes = sorted(classVotes.items(), key=operator.itemgetter(1), reverse=True) # ordered list from the largest to the smallest one.\n",
        "  return sortedVotes[0][0] # take the majority vote as the prediction."
      ],
      "metadata": {
        "id": "PtYTgKpSIaAS"
      },
      "execution_count": null,
      "outputs": []
    },
    {
      "cell_type": "code",
      "source": [
        "# test out the function with some test neighbors.\n",
        "voisins = [[1,1,1,'a'], [2,2,2,'a'], [3,3,3,'b']]\n",
        "response = getResponse(voisins)\n",
        "print(response)"
      ],
      "metadata": {
        "colab": {
          "base_uri": "https://localhost:8080/"
        },
        "id": "nDQ-WMFfUXtS",
        "outputId": "ba2b06b5-5c94-4b1a-c212-8bceb3370675"
      },
      "execution_count": null,
      "outputs": [
        {
          "output_type": "stream",
          "name": "stdout",
          "text": [
            "a\n"
          ]
        }
      ]
    },
    {
      "cell_type": "markdown",
      "source": [
        "# **5. Accuracy**"
      ],
      "metadata": {
        "id": "pBiNNl5bYnF9"
      }
    },
    {
      "cell_type": "code",
      "source": [
        "# evaluate the accuracy of predictions.\n",
        "# sums the total correct predictions and returns the accuracy as a percentage of correct classifications.\n",
        "# this is the classification accuracy.\n",
        "def getAccuracy(testSet, predictions):\n",
        "  c = 0\n",
        "  for x in range(len(testSet)):\n",
        "    if testSet[x][-1] == predictions[x]:\n",
        "      c += 1\n",
        "  return (c/float(len(testSet))) * 100.0 # the accuracy of the model is the ratio of the total correct predictions out of all predictions made."
      ],
      "metadata": {
        "id": "iqxeVI-nXbaB"
      },
      "execution_count": null,
      "outputs": []
    },
    {
      "cell_type": "code",
      "source": [
        "# test the function with a test dataset and predictions.\n",
        "testSet0 = [[1,1,1,'a'], [2,2,2,'a'], [3,3,3,'b']]\n",
        "predictions0 = ['a', 'a', 'a']\n",
        "accuracy0 = getAccuracy(testSet0, predictions0)\n",
        "print(accuracy0)"
      ],
      "metadata": {
        "colab": {
          "base_uri": "https://localhost:8080/"
        },
        "id": "lDzElIy9aafj",
        "outputId": "bcc1810f-23be-46e9-f37a-8ff2781b23ca"
      },
      "execution_count": null,
      "outputs": [
        {
          "output_type": "stream",
          "name": "stdout",
          "text": [
            "66.66666666666666\n"
          ]
        }
      ]
    },
    {
      "cell_type": "markdown",
      "source": [
        "# **6. Main**"
      ],
      "metadata": {
        "id": "BLM92pUAcNTr"
      }
    },
    {
      "cell_type": "code",
      "source": [
        "# main function.\n",
        "def main(): \n",
        "  data='/content/iris.data.txt'\n",
        "  trainingSet=[] \n",
        "  testSet=[] \n",
        "  split = 0.67 \n",
        "  loadDataset(data, split, trainingSet, testSet) \n",
        "  print ('Train: ' + repr(len(trainingSet)))\n",
        "  print ('Test: ' + repr(len(testSet)) )\n",
        "\n",
        "  predictions=[]\n",
        "  k = 5\n",
        "  for x in range(len(testSet)):\n",
        "    neighbors = getNeighbors(trainingSet, testSet[x], k)\n",
        "    result = getResponse(neighbors)\n",
        "    predictions.append(result)\n",
        "\n",
        "  accuracy = getAccuracy(testSet, predictions)\n",
        "  print('Accuracy= ' + repr(accuracy) + '%')\n"
      ],
      "metadata": {
        "id": "13chze0F9dcs"
      },
      "execution_count": null,
      "outputs": []
    },
    {
      "cell_type": "code",
      "source": [
        "import csv\n",
        "import random\n",
        "import math\n",
        "import operator\n",
        "main() "
      ],
      "metadata": {
        "colab": {
          "base_uri": "https://localhost:8080/"
        },
        "id": "7o2LOGnb9zBk",
        "outputId": "fad05c10-1b91-4eed-d6c3-d901e4249fd2"
      },
      "execution_count": null,
      "outputs": [
        {
          "output_type": "stream",
          "name": "stdout",
          "text": [
            "Train: 100\n",
            "Test: 49\n",
            "Accuracy= 97.95918367346938%\n"
          ]
        }
      ]
    },
    {
      "cell_type": "markdown",
      "source": [
        "# **7. Another distance metric**"
      ],
      "metadata": {
        "id": "AnLX9dmBcVPC"
      }
    },
    {
      "cell_type": "code",
      "source": [
        "# import math library\n",
        "from math import *\n",
        "from decimal import Decimal\n",
        " \n",
        "#  Minkowski distance function.\n",
        "def proot(value, root):\n",
        "  rootvalue = 1 / float(root)\n",
        "  return round (Decimal(value) ** Decimal(rootvalue), 3)\n",
        " \n",
        "def MinkowskiDistance(x, y, p):\n",
        "  i=[0, 1, 2]\n",
        "  x0=[]\n",
        "  y0=[]\n",
        "  for index in i:\n",
        "    x0.append(x[index])\n",
        "    y0.append(y[index])\n",
        "  return (proot( sum( pow(abs(a-b), p) for a, b in zip(x0, y0) ), p))"
      ],
      "metadata": {
        "id": "eA69djj-IXCq"
      },
      "execution_count": null,
      "outputs": []
    },
    {
      "cell_type": "code",
      "source": [
        "# testing our function with some sample data.\n",
        "data1 = [2, 2, 2, 'a']\n",
        "data2 = [4, 4, 4, 'b']\n",
        "p = 3\n",
        "d = 0\n",
        "print(MinkowskiDistance(data1, data2, p))"
      ],
      "metadata": {
        "colab": {
          "base_uri": "https://localhost:8080/"
        },
        "id": "qKH328oUL3lF",
        "outputId": "86ebe5fc-fa0d-4f6f-88fd-a832cfbf6649"
      },
      "execution_count": null,
      "outputs": [
        {
          "output_type": "stream",
          "name": "stdout",
          "text": [
            "2.884\n"
          ]
        }
      ]
    }
  ]
}